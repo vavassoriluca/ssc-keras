{
 "cells": [
  {
   "cell_type": "markdown",
   "metadata": {},
   "source": [
    "# Bounding Box Priors Estimation using K-Means\n",
    "\n",
    "SSD uses predefined bounding boxes ratios called priors to detect objects in the grids. To improve the performance of the model, a good practice is to estimate the aspect ratios of the objects included in your custom dataset. In this ntoebook, we will analyze them using K-Means over the width and height of the boxes."
   ]
  },
  {
   "cell_type": "code",
   "execution_count": null,
   "metadata": {},
   "outputs": [],
   "source": [
    "import pandas as pd\n",
    "import numpy as np\n",
    "import matplotlib.pyplot as plt\n",
    "import math\n",
    "import seaborn as sns\n",
    "import os\n",
    "import cv2\n",
    "import xml.etree.ElementTree as ET\n",
    "\n",
    "from sklearn.cluster import KMeans, DBSCAN\n",
    "from bounding_box_utils.bboxes_parser import parse_bboxes\n",
    "from jupyterthemes import jtplot\n",
    "\n",
    "jtplot.style(theme='chesterish', grid=False)\n",
    "\n",
    "%matplotlib inline"
   ]
  },
  {
   "cell_type": "code",
   "execution_count": null,
   "metadata": {},
   "outputs": [],
   "source": [
    "annotations_dir = \"../dataset_new/annotations/PASCAL_VOC/\"\n",
    "bboxes_w_h = []\n",
    "classes = ['screw_0', 'screw_1', 'screw_2', 'screw_3',\n",
    "           'screw_4', 'screw_5', 'screw_6', 'screw_7',\n",
    "           'screw_8', 'screw_9']\n",
    "\n",
    "for f in os.listdir(annotations_dir):\n",
    "    ann = ET.parse(annotations_dir + f)\n",
    "    bboxes = parse_bboxes(ann, classes)\n",
    "    for bb in bboxes:\n",
    "        bboxes_w_h.append(np.array([bb[2]-bb[0], bb[3] - bb[1], bb[4]]))\n",
    "\n",
    "bboxes_w_h = np.array(bboxes_w_h)\n",
    "    "
   ]
  },
  {
   "cell_type": "markdown",
   "metadata": {},
   "source": [
    "## Analysis of Bounding Boxes"
   ]
  },
  {
   "cell_type": "code",
   "execution_count": null,
   "metadata": {},
   "outputs": [],
   "source": [
    "sns.jointplot(x=bboxes_w_h[:,0], y=bboxes_w_h[:,1])\n",
    "sns.jointplot(x=bboxes_w_h[:,0], y=bboxes_w_h[:,1], kind='kde')"
   ]
  },
  {
   "cell_type": "markdown",
   "metadata": {},
   "source": [
    "## Plot the boxes by size\n",
    "\n",
    "In the following histogram we can see the number of boxes per interval of sizes of the maximum between the 2 dimensions"
   ]
  },
  {
   "cell_type": "code",
   "execution_count": null,
   "metadata": {},
   "outputs": [],
   "source": [
    "def count_base_size(bboxes, input_array):\n",
    "    \n",
    "    result = {}\n",
    "    for ele in input_array:\n",
    "        result[str(ele)] = 0\n",
    "    result['rest'] = 0\n",
    "\n",
    "    for bb in bboxes:\n",
    "        max_d = max(bb[0], bb[1])        \n",
    "        if max_d > input_array[len(input_array)-1]:\n",
    "            result['rest'] += 1\n",
    "        else:\n",
    "            idx = np.argmin(np.abs(input_array-max_d))\n",
    "            bound = input_array[idx]\n",
    "            if max_d > bound:\n",
    "                result[str(input_array[idx + 1])] += 1\n",
    "            else:\n",
    "                result[str(bound)] += 1\n",
    "            \n",
    "    return result\n",
    "    \n",
    "D = count_base_size(bboxes_w_h, np.array([64,96,128,196,212,256,364,448,512]))\n",
    "plt.bar(range(len(D)), D.values(), align='center') \n",
    "plt.xticks(range(len(D)), D.keys()) \n",
    "\n",
    "plt.show()"
   ]
  },
  {
   "cell_type": "markdown",
   "metadata": {},
   "source": [
    "## Compute the centroids of the k desired clusters\n",
    "\n",
    "\n",
    "### K-Means on the aspect ratio"
   ]
  },
  {
   "cell_type": "code",
   "execution_count": null,
   "metadata": {},
   "outputs": [],
   "source": [
    "# Plotting 5 clusters based on the aspect ratios\n",
    "\n",
    "ratios = bboxes_w_h[:,0] / bboxes_w_h[:,1]\n",
    "K = KMeans(5, random_state=1) \n",
    "labels = K.fit(ratios.reshape(-1,1))\n",
    "\n",
    "print(\"Aspect Ratios:\\n\")\n",
    "print(labels.cluster_centers_)\n",
    "\n",
    "plt.plot(ratios, 'o')\n"
   ]
  },
  {
   "cell_type": "markdown",
   "metadata": {},
   "source": [
    "### K-Means on width and height"
   ]
  },
  {
   "cell_type": "code",
   "execution_count": null,
   "metadata": {},
   "outputs": [],
   "source": [
    "# Plotting clusters based on both width and height\n",
    "\n",
    "K = KMeans(5, random_state=0)\n",
    "labels = K.fit(bboxes_w_h[:,:2])\n",
    "plt.scatter(bboxes_w_h[:,0], bboxes_w_h[:,1], c=labels.labels_,s=50, cmap='viridis');\n",
    "\n",
    "out = labels.cluster_centers_\n",
    "ar = out[:,0] / out[:,1]\n",
    "scale = out[:,1]*np.sqrt(ar)/256\n",
    "\n",
    "print (\"Aspect Ratios:\")\n",
    "print (ar)\n",
    "\n",
    "print (\"Scales: \")\n",
    "print (scale)"
   ]
  }
 ],
 "metadata": {
  "kernelspec": {
   "display_name": "Python 3",
   "language": "python",
   "name": "python3"
  },
  "language_info": {
   "codemirror_mode": {
    "name": "ipython",
    "version": 3
   },
   "file_extension": ".py",
   "mimetype": "text/x-python",
   "name": "python",
   "nbconvert_exporter": "python",
   "pygments_lexer": "ipython3",
   "version": "3.7.2"
  }
 },
 "nbformat": 4,
 "nbformat_minor": 2
}
